{
 "cells": [
  {
   "cell_type": "code",
   "execution_count": 60,
   "id": "612709de",
   "metadata": {},
   "outputs": [
    {
     "data": {
      "image/png": "[encoded data removed]",
      "text/plain": [
       "<Figure size 432x288 with 1 Axes>"
      ]
     },
     "metadata": {
      "needs_background": "light"
     },
     "output_type": "display_data"
    },
    {
     "name": "stderr",
     "output_type": "stream",
     "text": [
      "C:\\Users\\aayush\\Anaconda3\\lib\\site-packages\\ipykernel_launcher.py:39: DeprecationWarning: np.asscalar(a) is deprecated since NumPy v1.16, use a.item() instead\n"
     ]
    },
    {
     "data": {
      "text/html": [
       "<div>\n",
       "<style scoped>\n",
       "    .dataframe tbody tr th:only-of-type {\n",
       "        vertical-align: middle;\n",
       "    }\n",
       "\n",
       "    .dataframe tbody tr th {\n",
       "        vertical-align: top;\n",
       "    }\n",
       "\n",
       "    .dataframe thead th {\n",
       "        text-align: right;\n",
       "    }\n",
       "</style>\n",
       "<table border=\"1\" class=\"dataframe\">\n",
       "  <thead>\n",
       "    <tr style=\"text-align: right;\">\n",
       "      <th></th>\n",
       "      <th>Hours</th>\n",
       "      <th>Scores</th>\n",
       "    </tr>\n",
       "  </thead>\n",
       "  <tbody>\n",
       "    <tr>\n",
       "      <th>0</th>\n",
       "      <td>2.50</td>\n",
       "      <td>21</td>\n",
       "    </tr>\n",
       "    <tr>\n",
       "      <th>1</th>\n",
       "      <td>5.10</td>\n",
       "      <td>47</td>\n",
       "    </tr>\n",
       "    <tr>\n",
       "      <th>2</th>\n",
       "      <td>3.20</td>\n",
       "      <td>27</td>\n",
       "    </tr>\n",
       "    <tr>\n",
       "      <th>3</th>\n",
       "      <td>8.50</td>\n",
       "      <td>75</td>\n",
       "    </tr>\n",
       "    <tr>\n",
       "      <th>4</th>\n",
       "      <td>3.50</td>\n",
       "      <td>30</td>\n",
       "    </tr>\n",
       "    <tr>\n",
       "      <th>5</th>\n",
       "      <td>1.50</td>\n",
       "      <td>20</td>\n",
       "    </tr>\n",
       "    <tr>\n",
       "      <th>6</th>\n",
       "      <td>9.20</td>\n",
       "      <td>88</td>\n",
       "    </tr>\n",
       "    <tr>\n",
       "      <th>7</th>\n",
       "      <td>5.50</td>\n",
       "      <td>60</td>\n",
       "    </tr>\n",
       "    <tr>\n",
       "      <th>8</th>\n",
       "      <td>8.30</td>\n",
       "      <td>81</td>\n",
       "    </tr>\n",
       "    <tr>\n",
       "      <th>9</th>\n",
       "      <td>2.70</td>\n",
       "      <td>25</td>\n",
       "    </tr>\n",
       "    <tr>\n",
       "      <th>10</th>\n",
       "      <td>7.70</td>\n",
       "      <td>85</td>\n",
       "    </tr>\n",
       "    <tr>\n",
       "      <th>11</th>\n",
       "      <td>5.90</td>\n",
       "      <td>62</td>\n",
       "    </tr>\n",
       "    <tr>\n",
       "      <th>12</th>\n",
       "      <td>4.50</td>\n",
       "      <td>41</td>\n",
       "    </tr>\n",
       "    <tr>\n",
       "      <th>13</th>\n",
       "      <td>3.30</td>\n",
       "      <td>42</td>\n",
       "    </tr>\n",
       "    <tr>\n",
       "      <th>14</th>\n",
       "      <td>1.10</td>\n",
       "      <td>17</td>\n",
       "    </tr>\n",
       "    <tr>\n",
       "      <th>15</th>\n",
       "      <td>8.90</td>\n",
       "      <td>95</td>\n",
       "    </tr>\n",
       "    <tr>\n",
       "      <th>16</th>\n",
       "      <td>2.50</td>\n",
       "      <td>30</td>\n",
       "    </tr>\n",
       "    <tr>\n",
       "      <th>17</th>\n",
       "      <td>1.90</td>\n",
       "      <td>24</td>\n",
       "    </tr>\n",
       "    <tr>\n",
       "      <th>18</th>\n",
       "      <td>6.10</td>\n",
       "      <td>67</td>\n",
       "    </tr>\n",
       "    <tr>\n",
       "      <th>19</th>\n",
       "      <td>7.40</td>\n",
       "      <td>69</td>\n",
       "    </tr>\n",
       "    <tr>\n",
       "      <th>20</th>\n",
       "      <td>2.70</td>\n",
       "      <td>30</td>\n",
       "    </tr>\n",
       "    <tr>\n",
       "      <th>21</th>\n",
       "      <td>4.80</td>\n",
       "      <td>54</td>\n",
       "    </tr>\n",
       "    <tr>\n",
       "      <th>22</th>\n",
       "      <td>3.80</td>\n",
       "      <td>35</td>\n",
       "    </tr>\n",
       "    <tr>\n",
       "      <th>23</th>\n",
       "      <td>6.90</td>\n",
       "      <td>76</td>\n",
       "    </tr>\n",
       "    <tr>\n",
       "      <th>24</th>\n",
       "      <td>7.80</td>\n",
       "      <td>86</td>\n",
       "    </tr>\n",
       "    <tr>\n",
       "      <th>25</th>\n",
       "      <td>9.25</td>\n",
       "      <td>93</td>\n",
       "    </tr>\n",
       "  </tbody>\n",
       "</table>\n",
       "</div>"
      ],
      "text/plain": [
       "    Hours  Scores\n",
       "0    2.50      21\n",
       "1    5.10      47\n",
       "2    3.20      27\n",
       "3    8.50      75\n",
       "4    3.50      30\n",
       "5    1.50      20\n",
       "6    9.20      88\n",
       "7    5.50      60\n",
       "8    8.30      81\n",
       "9    2.70      25\n",
       "10   7.70      85\n",
       "11   5.90      62\n",
       "12   4.50      41\n",
       "13   3.30      42\n",
       "14   1.10      17\n",
       "15   8.90      95\n",
       "16   2.50      30\n",
       "17   1.90      24\n",
       "18   6.10      67\n",
       "19   7.40      69\n",
       "20   2.70      30\n",
       "21   4.80      54\n",
       "22   3.80      35\n",
       "23   6.90      76\n",
       "24   7.80      86\n",
       "25   9.25      93"
      ]
     },
     "execution_count": 60,
     "metadata": {},
     "output_type": "execute_result"
    }
   ],
   "source": [
    "###############       LIBRARY IMPORT       ###################\n",
    "import pandas as pd\n",
    "import matplotlib.pyplot as plt\n",
    "import numpy as np\n",
    "from numpy import cov\n",
    "from scipy.stats import pearsonr\n",
    "from sklearn.linear_model import LinearRegression\n",
    "from sklearn.model_selection import train_test_split\n",
    "from sklearn.model_selection import cross_validate\n",
    "###############       DATA IMPORT          #####################\n",
    "student_info=pd.read_csv(r'C:\\Users\\aayush\\Desktop\\Internship\\Data_1.csv')\n",
    "student_info\n",
    "new_row={'Hours':9.25}\n",
    "student_info_to_predict=student_info.append(new_row,ignore_index=True)\n",
    "student_info_to_predict\n",
    "###############       SCATTER PLOT         #####################\n",
    "m,b=np.polyfit(student_info['Hours'],student_info['Scores'],1)\n",
    "plt.plot(student_info['Hours'],(m*student_info['Hours'])+b,color='red')\n",
    "plt.scatter(student_info['Hours'],student_info['Scores'])\n",
    "plt.xlabel('Hours')\n",
    "plt.ylabel('Scores')\n",
    "plt.title('Scatter Plot')\n",
    "plt.show()\n",
    "###############      COVARIANCE MATRIX     #####################\n",
    "Covariance_Matrix=cov(student_info['Hours'],student_info['Scores'])\n",
    "Hours_Variance=Covariance_Matrix[0][0]\n",
    "Scores_Variance=Covariance_Matrix[1][1]\n",
    "###############   CORRELATION COEFFICIENT  #####################\n",
    "Correlation_Coef=pearsonr(student_info['Hours'],student_info['Scores'])\n",
    "Correlation_Coef=Correlation_Coef[0]\n",
    "###############   LINEAR REGRESSION        #####################\n",
    "lr=LinearRegression()\n",
    "x_feat=pd.DataFrame(student_info['Hours'])\n",
    "y_targ=pd.DataFrame(student_info['Scores'])\n",
    "fitted=lr.fit(x_feat,y_targ)\n",
    "fitted.intercept_\n",
    "fitted.coef_\n",
    "##############  PREDICTED VALUE AT 9.25 HR/DAY  ################\n",
    "student_info_to_predict.fillna(np.asscalar(lr.predict(pd.DataFrame(student_info_to_predict['Hours'].truncate(before=25)))),inplace=True)\n",
    "student_info_to_predict['Scores']=student_info_to_predict['Scores'].round(0).astype(int)\n",
    "\n",
    "################           VALIDATION        ####################\n",
    "x_train,x_test,y_train,y_test=train_test_split(x_feat,y_targ,test_size=0.4,random_state=1)\n",
    "lr.fit(x_train,y_train)\n",
    "lr.predict(x_test)\n",
    "from sklearn.metrics import r2_score\n",
    "R_Squared=r2_score(lr.predict(x_test),y_test)*100\n",
    "student_info_to_predict"
   ]
  },
  {
   "cell_type": "code",
   "execution_count": 54,
   "id": "d811f876",
   "metadata": {},
   "outputs": [
    {
     "data": {
      "text/plain": [
       "array([[  6.3761    ,  62.3315    ],\n",
       "       [ 62.3315    , 639.42666667]])"
      ]
     },
     "execution_count": 54,
     "metadata": {},
     "output_type": "execute_result"
    }
   ],
   "source": [
    "Covariance_Matrix"
   ]
  },
  {
   "cell_type": "code",
   "execution_count": 52,
   "id": "e23f32f8",
   "metadata": {},
   "outputs": [
    {
     "data": {
      "text/plain": [
       "6.376099999999999"
      ]
     },
     "execution_count": 52,
     "metadata": {},
     "output_type": "execute_result"
    }
   ],
   "source": [
    "Hours_Variance"
   ]
  },
  {
   "cell_type": "code",
   "execution_count": 51,
   "id": "588a8240",
   "metadata": {},
   "outputs": [
    {
     "data": {
      "text/plain": [
       "639.4266666666665"
      ]
     },
     "execution_count": 51,
     "metadata": {},
     "output_type": "execute_result"
    }
   ],
   "source": [
    "Scores_Variance"
   ]
  },
  {
   "cell_type": "code",
   "execution_count": 55,
   "id": "574f3199",
   "metadata": {},
   "outputs": [
    {
     "data": {
      "text/plain": [
       "0.9761906560220884"
      ]
     },
     "execution_count": 55,
     "metadata": {},
     "output_type": "execute_result"
    }
   ],
   "source": [
    "Correlation_Coef"
   ]
  },
  {
   "cell_type": "code",
   "execution_count": 61,
   "id": "b068f862",
   "metadata": {},
   "outputs": [
    {
     "data": {
      "text/plain": [
       "92.58187868837227"
      ]
     },
     "execution_count": 61,
     "metadata": {},
     "output_type": "execute_result"
    }
   ],
   "source": [
    "R_Squared"
   ]
  },
  {
   "cell_type": "code",
   "execution_count": null,
   "id": "784337c1",
   "metadata": {},
   "outputs": [],
   "source": []
  }
 ],
 "metadata": {
  "kernelspec": {
   "display_name": "Python 3",
   "language": "python",
   "name": "python3"
  },
  "language_info": {
   "codemirror_mode": {
    "name": "ipython",
    "version": 3
   },
   "file_extension": ".py",
   "mimetype": "text/x-python",
   "name": "python",
   "nbconvert_exporter": "python",
   "pygments_lexer": "ipython3",
   "version": "3.7.10"
  }
 },
 "nbformat": 4,
 "nbformat_minor": 5
}
